{
 "cells": [
  {
   "cell_type": "markdown",
   "metadata": {
    "collapsed": true
   },
   "source": [
    "\n",
    "# Machine Translation Project\n",
    "This is a project from the natural language processing nanodegree from udacity\n",
    "\n",
    "(https://br.udacity.com/course/natural-language-processing-nanodegree--nd892)\n",
    "\n",
    "## Introduction\n",
    "In this notebook, we will build a deep neural network that functions as part of an end-to-end machine translation pipeline. Your completed pipeline will accept English text as input and return the French translation.\n",
    "\n",
    "- **Preprocess** - It'll convert text to sequence of integers.\n",
    "- **Models** Creates models which accepts a sequence of integers as input and returns a probability distribution over possible translations. We will try some basic types of neural networks that are often used for machine translation, in the end will build based on the lessons learnes your own model!\n",
    "- **Prediction** In the end the model will run on some sample English text."
   ]
  },
  {
   "cell_type": "code",
   "execution_count": 1,
   "metadata": {},
   "outputs": [],
   "source": [
    "%load_ext autoreload\n",
    "%aimport helper, tests\n",
    "%autoreload 1"
   ]
  },
  {
   "cell_type": "code",
   "execution_count": 2,
   "metadata": {},
   "outputs": [
    {
     "name": "stderr",
     "output_type": "stream",
     "text": [
      "Using TensorFlow backend.\n"
     ]
    }
   ],
   "source": [
    "import collections\n",
    "\n",
    "import helper\n",
    "import numpy as np\n",
    "\n",
    "from keras.preprocessing.text import Tokenizer\n",
    "from keras.preprocessing.sequence import pad_sequences\n",
    "from keras.models import Model\n",
    "from keras.layers import GRU, Input, Dense, TimeDistributed, Activation, RepeatVector, Bidirectional, Add, Reshape#, LSTM\n",
    "from keras.layers.embeddings import Embedding\n",
    "from keras.optimizers import Adam\n",
    "from keras.losses import sparse_categorical_crossentropy"
   ]
  },
  {
   "cell_type": "markdown",
   "metadata": {},
   "source": [
    "### Verify access to the GPU"
   ]
  },
  {
   "cell_type": "code",
   "execution_count": 3,
   "metadata": {},
   "outputs": [
    {
     "name": "stdout",
     "output_type": "stream",
     "text": [
      "[name: \"/cpu:0\"\n",
      "device_type: \"CPU\"\n",
      "memory_limit: 268435456\n",
      "locality {\n",
      "}\n",
      "incarnation: 14128221709351292680\n",
      ", name: \"/gpu:0\"\n",
      "device_type: \"GPU\"\n",
      "memory_limit: 357302272\n",
      "locality {\n",
      "  bus_id: 1\n",
      "}\n",
      "incarnation: 9290206901268069640\n",
      "physical_device_desc: \"device: 0, name: Tesla K80, pci bus id: 0000:00:04.0\"\n",
      "]\n"
     ]
    }
   ],
   "source": [
    "from tensorflow.python.client import device_lib\n",
    "print(device_lib.list_local_devices())"
   ]
  },
  {
   "cell_type": "markdown",
   "metadata": {},
   "source": [
    "## Dataset\n",
    "We begin by investigating the dataset that will be used to train and evaluate your pipeline.  The most common datasets used for machine translation are from [WMT](http://www.statmt.org/).  However, that will take a long time to train a neural network on.  We'll be using a special dataset for this project that contains a small vocabulary.  We'll be able to train our model in a more reasonable time with this dataset.\n",
    "### Load Data\n",
    "The data is located in `data/small_vocab_en` and `data/small_vocab_fr`. The `small_vocab_en` file contains English sentences with their French translations in the `small_vocab_fr` file. Load the English and French data from these files from running the cell below."
   ]
  },
  {
   "cell_type": "code",
   "execution_count": 4,
   "metadata": {},
   "outputs": [
    {
     "name": "stdout",
     "output_type": "stream",
     "text": [
      "Dataset Loaded\n"
     ]
    }
   ],
   "source": [
    "# Load English data\n",
    "english_sentences = helper.load_data('data/small_vocab_en')\n",
    "# Load French data\n",
    "french_sentences = helper.load_data('data/small_vocab_fr')\n",
    "\n",
    "print('Dataset Loaded')"
   ]
  },
  {
   "cell_type": "markdown",
   "metadata": {},
   "source": [
    "### Files\n",
    "Each line in `small_vocab_en` contains an English sentence with the respective translation in each line of `small_vocab_fr`.  View the first two lines from each file."
   ]
  },
  {
   "cell_type": "code",
   "execution_count": 5,
   "metadata": {},
   "outputs": [
    {
     "name": "stdout",
     "output_type": "stream",
     "text": [
      "small_vocab_en Line 1:  new jersey is sometimes quiet during autumn , and it is snowy in april .\n",
      "small_vocab_fr Line 1:  new jersey est parfois calme pendant l' automne , et il est neigeux en avril .\n",
      "small_vocab_en Line 2:  the united states is usually chilly during july , and it is usually freezing in november .\n",
      "small_vocab_fr Line 2:  les états-unis est généralement froid en juillet , et il gèle habituellement en novembre .\n"
     ]
    }
   ],
   "source": [
    "for sample_i in range(2):\n",
    "    print('small_vocab_en Line {}:  {}'.format(sample_i + 1, english_sentences[sample_i]))\n",
    "    print('small_vocab_fr Line {}:  {}'.format(sample_i + 1, french_sentences[sample_i]))"
   ]
  },
  {
   "cell_type": "markdown",
   "metadata": {},
   "source": [
    "From looking at the sentences, you can see they have been preprocessed already.  The puncuations have been delimited using spaces. All the text have been converted to lowercase.  This saves a little work right now, but the text requires more preprocessing.\n",
    "### Vocabulary\n",
    "The complexity of the problem is determined by the complexity of the vocabulary.  A more complex vocabulary is a more complex problem.  Let's look at the complexity of the dataset we'll be working with."
   ]
  },
  {
   "cell_type": "code",
   "execution_count": 6,
   "metadata": {},
   "outputs": [
    {
     "name": "stdout",
     "output_type": "stream",
     "text": [
      "1823250 English words.\n",
      "227 unique English words.\n",
      "10 Most common words in the English dataset:\n",
      "\"is\" \",\" \".\" \"in\" \"it\" \"during\" \"the\" \"but\" \"and\" \"sometimes\"\n",
      "\n",
      "1961295 French words.\n",
      "355 unique French words.\n",
      "10 Most common words in the French dataset:\n",
      "\"est\" \".\" \",\" \"en\" \"il\" \"les\" \"mais\" \"et\" \"la\" \"parfois\"\n"
     ]
    }
   ],
   "source": [
    "english_words_counter = collections.Counter([word for sentence in english_sentences for word in sentence.split()])\n",
    "french_words_counter = collections.Counter([word for sentence in french_sentences for word in sentence.split()])\n",
    "\n",
    "print('{} English words.'.format(len([word for sentence in english_sentences for word in sentence.split()])))\n",
    "print('{} unique English words.'.format(len(english_words_counter)))\n",
    "print('10 Most common words in the English dataset:')\n",
    "print('\"' + '\" \"'.join(list(zip(*english_words_counter.most_common(10)))[0]) + '\"')\n",
    "print()\n",
    "print('{} French words.'.format(len([word for sentence in french_sentences for word in sentence.split()])))\n",
    "print('{} unique French words.'.format(len(french_words_counter)))\n",
    "print('10 Most common words in the French dataset:')\n",
    "print('\"' + '\" \"'.join(list(zip(*french_words_counter.most_common(10)))[0]) + '\"')"
   ]
  },
  {
   "cell_type": "markdown",
   "metadata": {},
   "source": [
    "For comparison, _Alice's Adventures in Wonderland_ contains 2,766 unique words of a total of 15,500 words.\n",
    "## Preprocess\n",
    "For this project, we won't use text data as input to your model. Instead, we'll convert the text into sequences of integers using the following preprocess methods:\n",
    "1. Tokenize the words into ids\n",
    "2. Add padding to make all the sequences the same length.\n",
    "\n",
    "### Tokenize\n",
    "\n",
    "Turning each sentence into a sequence of words ids using Keras's [`Tokenizer`](https://keras.io/preprocessing/text/#tokenizer) function. Use this function to tokenize `english_sentences` and `french_sentences` in the cell below.\n",
    "\n",
    "Running the cell will run `tokenize` on sample data and show output for debugging."
   ]
  },
  {
   "cell_type": "code",
   "execution_count": 7,
   "metadata": {},
   "outputs": [
    {
     "name": "stdout",
     "output_type": "stream",
     "text": [
      "{'the': 1, 'quick': 2, 'a': 3, 'brown': 4, 'fox': 5, 'jumps': 6, 'over': 7, 'lazy': 8, 'dog': 9, 'by': 10, 'jove': 11, 'my': 12, 'study': 13, 'of': 14, 'lexicography': 15, 'won': 16, 'prize': 17, 'this': 18, 'is': 19, 'short': 20, 'sentence': 21}\n",
      "\n",
      "Sequence 1 in x\n",
      "  Input:  The quick brown fox jumps over the lazy dog .\n",
      "  Output: [1, 2, 4, 5, 6, 7, 1, 8, 9]\n",
      "Sequence 2 in x\n",
      "  Input:  By Jove , my quick study of lexicography won a prize .\n",
      "  Output: [10, 11, 12, 2, 13, 14, 15, 16, 3, 17]\n",
      "Sequence 3 in x\n",
      "  Input:  This is a short sentence .\n",
      "  Output: [18, 19, 3, 20, 21]\n"
     ]
    }
   ],
   "source": [
    "from keras.preprocessing.text import text_to_word_sequence\n",
    "\n",
    "def tokenize(x):\n",
    "    \"\"\"\n",
    "    Tokenize x\n",
    "    :param x: List of sentences/strings to be tokenized\n",
    "    :return: Tuple of (tokenized x data, tokenizer used to tokenize x)\n",
    "    \"\"\"\n",
    "    \n",
    "    my_tokenizer = Tokenizer()\n",
    "    my_tokenizer.fit_on_texts(x)\n",
    "    sequences = my_tokenizer.texts_to_sequences(x)\n",
    "    \n",
    "    return sequences, my_tokenizer\n",
    "\n",
    "\n",
    "# Tokenize Example output\n",
    "text_sentences = [\n",
    "    'The quick brown fox jumps over the lazy dog .',\n",
    "    'By Jove , my quick study of lexicography won a prize .',\n",
    "    'This is a short sentence .']\n",
    "text_tokenized, text_tokenizer = tokenize(text_sentences)\n",
    "print(text_tokenizer.word_index)\n",
    "print()\n",
    "for sample_i, (sent, token_sent) in enumerate(zip(text_sentences, text_tokenized)):\n",
    "    print('Sequence {} in x'.format(sample_i + 1))\n",
    "    print('  Input:  {}'.format(sent))\n",
    "    print('  Output: {}'.format(token_sent))"
   ]
  },
  {
   "cell_type": "markdown",
   "metadata": {},
   "source": [
    "### Padding\n",
    "When batching the sequence of word ids together, each sequence needs to be the same length.  Since sentences are dynamic in length, we can add padding to the end of the sequences to make them the same length.\n",
    "\n",
    "Using Keras's [`pad_sequences`](https://keras.io/preprocessing/sequence/#pad_sequences) function."
   ]
  },
  {
   "cell_type": "code",
   "execution_count": 8,
   "metadata": {},
   "outputs": [
    {
     "name": "stdout",
     "output_type": "stream",
     "text": [
      "Sequence 1 in x\n",
      "  Input:  [1 2 4 5 6 7 1 8 9]\n",
      "  Output: [1 2 4 5 6 7 1 8 9 0]\n",
      "Sequence 2 in x\n",
      "  Input:  [10 11 12  2 13 14 15 16  3 17]\n",
      "  Output: [10 11 12  2 13 14 15 16  3 17]\n",
      "Sequence 3 in x\n",
      "  Input:  [18 19  3 20 21]\n",
      "  Output: [18 19  3 20 21  0  0  0  0  0]\n"
     ]
    }
   ],
   "source": [
    "def pad(x, length=None):\n",
    "    \"\"\"\n",
    "    Pad x\n",
    "    :param x: List of sequences.\n",
    "    :param length: Length to pad the sequence to.  If None, use length of longest sequence in x.\n",
    "    :return: Padded numpy array of sequences\n",
    "    \"\"\"\n",
    "    if length == None:\n",
    "        maxlen = max([len(sentence) for sentence in x])\n",
    "    else:\n",
    "        maxlen = length\n",
    "    \n",
    "    padded = pad_sequences(x, maxlen=maxlen, padding='post', truncating='post')\n",
    "\n",
    "    return np.asarray(padded)\n",
    "\n",
    "\n",
    "# Pad Tokenized output\n",
    "test_pad = pad(text_tokenized)\n",
    "for sample_i, (token_sent, pad_sent) in enumerate(zip(text_tokenized, test_pad)):\n",
    "    print('Sequence {} in x'.format(sample_i + 1))\n",
    "    print('  Input:  {}'.format(np.array(token_sent)))\n",
    "    print('  Output: {}'.format(pad_sent))"
   ]
  },
  {
   "cell_type": "markdown",
   "metadata": {},
   "source": [
    "### Preprocess Pipeline"
   ]
  },
  {
   "cell_type": "code",
   "execution_count": 9,
   "metadata": {},
   "outputs": [
    {
     "name": "stdout",
     "output_type": "stream",
     "text": [
      "Data Preprocessed\n",
      "Max English sentence length: 15\n",
      "Max French sentence length: 21\n",
      "English vocabulary size: 199\n",
      "French vocabulary size: 344\n"
     ]
    }
   ],
   "source": [
    "def preprocess(x, y):\n",
    "    \"\"\"\n",
    "    Preprocess x and y\n",
    "    :param x: Feature List of sentences\n",
    "    :param y: Label List of sentences\n",
    "    :return: Tuple of (Preprocessed x, Preprocessed y, x tokenizer, y tokenizer)\n",
    "    \"\"\"\n",
    "    preprocess_x, x_tk = tokenize(x)\n",
    "    preprocess_y, y_tk = tokenize(y)\n",
    "\n",
    "    preprocess_x = pad(preprocess_x)\n",
    "    preprocess_y = pad(preprocess_y)\n",
    "\n",
    "    # Keras's sparse_categorical_crossentropy function requires the labels to be in 3 dimensions\n",
    "    preprocess_y = preprocess_y.reshape(*preprocess_y.shape, 1)\n",
    "\n",
    "    return preprocess_x, preprocess_y, x_tk, y_tk\n",
    "\n",
    "preproc_english_sentences, preproc_french_sentences, english_tokenizer, french_tokenizer =\\\n",
    "    preprocess(english_sentences, french_sentences)\n",
    "    \n",
    "max_english_sequence_length = preproc_english_sentences.shape[1]\n",
    "max_french_sequence_length = preproc_french_sentences.shape[1]\n",
    "english_vocab_size = len(english_tokenizer.word_index)\n",
    "french_vocab_size = len(french_tokenizer.word_index)\n",
    "\n",
    "print('Data Preprocessed')\n",
    "print(\"Max English sentence length:\", max_english_sequence_length)\n",
    "print(\"Max French sentence length:\", max_french_sequence_length)\n",
    "print(\"English vocabulary size:\", english_vocab_size)\n",
    "print(\"French vocabulary size:\", french_vocab_size)"
   ]
  },
  {
   "cell_type": "markdown",
   "metadata": {},
   "source": [
    "## Models\n",
    "In this section, we will experiment with various neural network architectures.\n",
    "We will begin by training four relatively simple architectures.\n",
    "- Model 1 is a simple RNN\n",
    "- Model 2 is a RNN with Embedding\n",
    "- Model 3 is a Bidirectional RNN\n",
    "- Model 4 is an Encoder-Decoder RNN\n",
    "\n",
    "After experimenting with the four simple architectures, we will construct a deeper architecture that should hopefully be based on all the lessons learned\n",
    "### Ids Back to Text\n",
    "The neural network will be translating the input to words ids, which isn't the final form we want.  We want the French translation.  The function `logits_to_text` will bridge the gab between the logits from the neural network to the French translation. You'll be using this function to better understand the output of the neural network."
   ]
  },
  {
   "cell_type": "code",
   "execution_count": 10,
   "metadata": {},
   "outputs": [
    {
     "name": "stdout",
     "output_type": "stream",
     "text": [
      "`logits_to_text` function loaded.\n"
     ]
    }
   ],
   "source": [
    "def logits_to_text(logits, tokenizer):\n",
    "    \"\"\"\n",
    "    Turn logits from a neural network into text using the tokenizer\n",
    "    :param logits: Logits from a neural network\n",
    "    :param tokenizer: Keras Tokenizer fit on the labels\n",
    "    :return: String that represents the text of the logits\n",
    "    \"\"\"\n",
    "    index_to_words = {id: word for word, id in tokenizer.word_index.items()}\n",
    "    index_to_words[0] = '<PAD>'\n",
    "\n",
    "    return ' '.join([index_to_words[prediction] for prediction in np.argmax(logits, 1)])\n",
    "\n",
    "print('`logits_to_text` function loaded.')"
   ]
  },
  {
   "cell_type": "markdown",
   "metadata": {},
   "source": [
    "### Model 1: RNN\n",
    "![RNN](images/rnn.png)\n",
    "A basic RNN model is a good baseline for sequence data."
   ]
  },
  {
   "cell_type": "code",
   "execution_count": 11,
   "metadata": {},
   "outputs": [],
   "source": [
    "french_vocab_size = french_vocab_size + 1\n",
    "english_vocab_size = english_vocab_size + 1"
   ]
  },
  {
   "cell_type": "code",
   "execution_count": 12,
   "metadata": {},
   "outputs": [
    {
     "name": "stdout",
     "output_type": "stream",
     "text": [
      "Train on 110288 samples, validate on 27573 samples\n",
      "Epoch 1/10\n",
      "110288/110288 [==============================] - 9s 85us/step - loss: 3.4568 - acc: 0.4091 - val_loss: 2.5673 - val_acc: 0.4581\n",
      "Epoch 2/10\n",
      "110288/110288 [==============================] - 7s 65us/step - loss: 2.4489 - acc: 0.4724 - val_loss: 2.3267 - val_acc: 0.4836\n",
      "Epoch 3/10\n",
      "110288/110288 [==============================] - 7s 65us/step - loss: 2.2120 - acc: 0.5012 - val_loss: 2.0938 - val_acc: 0.5191\n",
      "Epoch 4/10\n",
      "110288/110288 [==============================] - 7s 65us/step - loss: 1.9861 - acc: 0.5442 - val_loss: 1.8790 - val_acc: 0.5715\n",
      "Epoch 5/10\n",
      "110288/110288 [==============================] - 7s 65us/step - loss: 1.8024 - acc: 0.5768 - val_loss: 1.7352 - val_acc: 0.5802\n",
      "Epoch 6/10\n",
      "110288/110288 [==============================] - 7s 65us/step - loss: 1.6914 - acc: 0.5853 - val_loss: 1.6510 - val_acc: 0.5882\n",
      "Epoch 7/10\n",
      "110288/110288 [==============================] - 7s 64us/step - loss: 1.6210 - acc: 0.5923 - val_loss: 1.5918 - val_acc: 0.5949\n",
      "Epoch 8/10\n",
      "110288/110288 [==============================] - 7s 65us/step - loss: 1.5685 - acc: 0.5969 - val_loss: 1.5444 - val_acc: 0.6006\n",
      "Epoch 9/10\n",
      "110288/110288 [==============================] - 7s 65us/step - loss: 1.5245 - acc: 0.6022 - val_loss: 1.5036 - val_acc: 0.6053\n",
      "Epoch 10/10\n",
      "110288/110288 [==============================] - 7s 65us/step - loss: 1.4856 - acc: 0.6098 - val_loss: 1.4663 - val_acc: 0.6125\n",
      "new jersey est parfois parfois en en mais il est est en en <PAD> <PAD> <PAD> <PAD> <PAD> <PAD> <PAD> <PAD>\n"
     ]
    }
   ],
   "source": [
    "def simple_model(input_shape, output_sequence_length, english_vocab_size, french_vocab_size):\n",
    "    \"\"\"\n",
    "    Build and train a basic RNN on x and y\n",
    "    :param input_shape: Tuple of input shape\n",
    "    :param output_sequence_length: Length of output sequence\n",
    "    :param english_vocab_size: Number of unique English words in the dataset\n",
    "    :param french_vocab_size: Number of unique French words in the dataset\n",
    "    :return: Keras model built, but not trained\n",
    "    \"\"\"\n",
    "    learning_rate = 0.001\n",
    "    \n",
    "    # Build the layers    \n",
    "    i = Input(shape=input_shape[1:])\n",
    "    g = GRU(64, return_sequences=True)(i)\n",
    "    l = TimeDistributed(Dense((french_vocab_size)))(g)\n",
    "    a = Activation('softmax')(l)\n",
    "    model = Model(i, a)\n",
    "    \n",
    "    model.compile(loss=sparse_categorical_crossentropy,\n",
    "                  optimizer=Adam(learning_rate),\n",
    "                  metrics=['accuracy'])\n",
    "    return model\n",
    "\n",
    "# Reshaping the input to work with a basic RNN\n",
    "tmp_x = pad(preproc_english_sentences, max_french_sequence_length)\n",
    "tmp_x = tmp_x.reshape((-1, preproc_french_sentences.shape[-2], 1))\n",
    "\n",
    "# Train the neural network\n",
    "simple_rnn_model = simple_model(\n",
    "    tmp_x.shape,\n",
    "    max_french_sequence_length,\n",
    "    english_vocab_size,\n",
    "    french_vocab_size)\n",
    "simple_rnn_model.fit(tmp_x, preproc_french_sentences, batch_size=1024, epochs=10, validation_split=0.2)\n",
    "\n",
    "# Print prediction(s)\n",
    "print(logits_to_text(simple_rnn_model.predict(tmp_x[:1])[0], french_tokenizer))"
   ]
  },
  {
   "cell_type": "markdown",
   "metadata": {},
   "source": [
    "### Model 2: Embedding\n",
    "![RNN](images/embedding.png)\n",
    "We've turned the words into ids, but there's a better representation of a word called word embeddings.  An embedding is a vector representation of the word that is close to similar words in n-dimensional space, where the n represents the size of the embedding vectors.\n",
    "\n",
    "In this model, we'll create a RNN model using embedding."
   ]
  },
  {
   "cell_type": "code",
   "execution_count": 13,
   "metadata": {},
   "outputs": [
    {
     "name": "stdout",
     "output_type": "stream",
     "text": [
      "Train on 110288 samples, validate on 27573 samples\n",
      "Epoch 1/10\n",
      "110288/110288 [==============================] - 8s 76us/step - loss: 3.8733 - acc: 0.3934 - val_loss: 3.0278 - val_acc: 0.4093\n",
      "Epoch 2/10\n",
      "110288/110288 [==============================] - 8s 73us/step - loss: 2.8618 - acc: 0.4102 - val_loss: 2.6155 - val_acc: 0.4396\n",
      "Epoch 3/10\n",
      "110288/110288 [==============================] - 8s 73us/step - loss: 2.3744 - acc: 0.4879 - val_loss: 2.0705 - val_acc: 0.5384\n",
      "Epoch 4/10\n",
      "110288/110288 [==============================] - 8s 73us/step - loss: 1.7912 - acc: 0.5783 - val_loss: 1.5717 - val_acc: 0.6202\n",
      "Epoch 5/10\n",
      "110288/110288 [==============================] - 8s 73us/step - loss: 1.4349 - acc: 0.6530 - val_loss: 1.3072 - val_acc: 0.6852\n",
      "Epoch 6/10\n",
      "110288/110288 [==============================] - 8s 73us/step - loss: 1.2128 - acc: 0.7074 - val_loss: 1.1228 - val_acc: 0.7276\n",
      "Epoch 7/10\n",
      "110288/110288 [==============================] - 8s 73us/step - loss: 1.0497 - acc: 0.7437 - val_loss: 0.9775 - val_acc: 0.7584\n",
      "Epoch 8/10\n",
      "110288/110288 [==============================] - 8s 73us/step - loss: 0.9189 - acc: 0.7701 - val_loss: 0.8595 - val_acc: 0.7824\n",
      "Epoch 9/10\n",
      "110288/110288 [==============================] - 8s 73us/step - loss: 0.8138 - acc: 0.7914 - val_loss: 0.7678 - val_acc: 0.8004\n",
      "Epoch 10/10\n",
      "110288/110288 [==============================] - 8s 73us/step - loss: 0.7344 - acc: 0.8066 - val_loss: 0.6995 - val_acc: 0.8129\n",
      "new jersey est parfois calme en l' et et il est enneigée en en <PAD> <PAD> <PAD> <PAD> <PAD> <PAD> <PAD>\n"
     ]
    }
   ],
   "source": [
    "def embed_model(input_shape, output_sequence_length, english_vocab_size, french_vocab_size):\n",
    "    \"\"\"\n",
    "    Build and train a RNN model using word embedding on x and y\n",
    "    :param input_shape: Tuple of input shape\n",
    "    :param output_sequence_length: Length of output sequence\n",
    "    :param english_vocab_size: Number of unique English words in the dataset\n",
    "    :param french_vocab_size: Number of unique French words in the dataset\n",
    "    :return: Keras model built, but not trained\n",
    "    \"\"\"\n",
    "    # Implement\n",
    "    learning_rate = 0.001\n",
    "\n",
    "    i = Input(shape = input_shape[1:])\n",
    "    e = Embedding(english_vocab_size, 32, input_length = output_sequence_length)(i)\n",
    "    g = GRU(64, return_sequences=True)(e)\n",
    "    t = TimeDistributed(Dense((french_vocab_size)))(g)\n",
    "    a = Activation('softmax')(t)\n",
    "    model = Model(i, a)\n",
    "    \n",
    "    model.compile(loss=sparse_categorical_crossentropy,\n",
    "                  optimizer=Adam(learning_rate),\n",
    "                  metrics=['accuracy'])\n",
    "    \n",
    "    return model\n",
    "\n",
    "\n",
    "# Reshape the input\n",
    "tmp_x = pad(preproc_english_sentences, max_french_sequence_length)\n",
    "#tmp_x = tmp_x.reshape((-1, preproc_french_sentences.shape[-2], 1))\n",
    "\n",
    "# Train the neural network\n",
    "embed_model = embed_model(\n",
    "    tmp_x.shape,\n",
    "    max_french_sequence_length,\n",
    "    english_vocab_size,\n",
    "    french_vocab_size)\n",
    "\n",
    "embed_model.fit(tmp_x, preproc_french_sentences, batch_size=1024, epochs=10, validation_split=0.2)\n",
    "\n",
    "# Print prediction(s)\n",
    "print(logits_to_text(embed_model.predict(tmp_x[:1])[0], french_tokenizer))"
   ]
  },
  {
   "cell_type": "markdown",
   "metadata": {},
   "source": [
    "### Model 3: Bidirectional RNNs\n",
    "![RNN](images/bidirectional.png)\n",
    "One restriction of a RNN is that it can't see the future input, only the past.  This is where bidirectional recurrent neural networks come in.  They are able to see the future data."
   ]
  },
  {
   "cell_type": "code",
   "execution_count": 14,
   "metadata": {},
   "outputs": [
    {
     "name": "stdout",
     "output_type": "stream",
     "text": [
      "Train on 110288 samples, validate on 27573 samples\n",
      "Epoch 1/10\n",
      "110288/110288 [==============================] - 11s 102us/step - loss: 3.2393 - acc: 0.4552 - val_loss: 2.1707 - val_acc: 0.5195\n",
      "Epoch 2/10\n",
      "110288/110288 [==============================] - 11s 97us/step - loss: 1.9090 - acc: 0.5493 - val_loss: 1.7047 - val_acc: 0.5793\n",
      "Epoch 3/10\n",
      "110288/110288 [==============================] - 11s 97us/step - loss: 1.5984 - acc: 0.5958 - val_loss: 1.5146 - val_acc: 0.6095\n",
      "Epoch 4/10\n",
      "110288/110288 [==============================] - 11s 97us/step - loss: 1.4626 - acc: 0.6143 - val_loss: 1.4144 - val_acc: 0.6181\n",
      "Epoch 5/10\n",
      "110288/110288 [==============================] - 11s 97us/step - loss: 1.3784 - acc: 0.6237 - val_loss: 1.3436 - val_acc: 0.6330\n",
      "Epoch 6/10\n",
      "110288/110288 [==============================] - 11s 97us/step - loss: 1.3165 - acc: 0.6330 - val_loss: 1.2893 - val_acc: 0.6406\n",
      "Epoch 7/10\n",
      "110288/110288 [==============================] - 11s 98us/step - loss: 1.2679 - acc: 0.6447 - val_loss: 1.2477 - val_acc: 0.6522\n",
      "Epoch 8/10\n",
      "110288/110288 [==============================] - 11s 98us/step - loss: 1.2281 - acc: 0.6542 - val_loss: 1.2094 - val_acc: 0.6580\n",
      "Epoch 9/10\n",
      "110288/110288 [==============================] - 11s 97us/step - loss: 1.1942 - acc: 0.6603 - val_loss: 1.1786 - val_acc: 0.6610\n",
      "Epoch 10/10\n",
      "110288/110288 [==============================] - 11s 97us/step - loss: 1.1637 - acc: 0.6649 - val_loss: 1.1484 - val_acc: 0.6695\n",
      "new jersey est parfois chaud en l' et il est est en en <PAD> <PAD> <PAD> <PAD> <PAD> <PAD> <PAD> <PAD>\n"
     ]
    }
   ],
   "source": [
    "def bd_model(input_shape, output_sequence_length, english_vocab_size, french_vocab_size):\n",
    "    \"\"\"\n",
    "    Build and train a bidirectional RNN model on x and y\n",
    "    :param input_shape: Tuple of input shape\n",
    "    :param output_sequence_length: Length of output sequence\n",
    "    :param english_vocab_size: Number of unique English words in the dataset\n",
    "    :param french_vocab_size: Number of unique French words in the dataset\n",
    "    :return: Keras model built, but not trained\n",
    "    \"\"\"\n",
    "    # Implement\n",
    "    learning_rate = 0.001\n",
    "\n",
    "    i = Input(shape = input_shape[1:])\n",
    "    \n",
    "    #We leave the embedding layer out on purpose this time to focus on the effects of the bidirectional model\n",
    "    #e = Embedding(english_vocab_size, 32, input_length = output_sequence_length)(i)\n",
    "\n",
    "    g = Bidirectional(GRU(64, return_sequences=True))(i)\n",
    "    t = TimeDistributed(Dense((french_vocab_size)))(g)\n",
    "    a = Activation('softmax')(t)\n",
    "    model = Model(i, a)\n",
    "    \n",
    "    model.compile(loss=sparse_categorical_crossentropy,\n",
    "                  optimizer=Adam(learning_rate),\n",
    "                  metrics=['accuracy'])\n",
    "    \n",
    "    return model\n",
    "\n",
    "\n",
    "# Train and Print prediction(s)\n",
    "\n",
    "# Reshape the input\n",
    "tmp_x = pad(preproc_english_sentences, max_french_sequence_length)\n",
    "tmp_x = tmp_x.reshape((-1, preproc_french_sentences.shape[-2], 1))\n",
    "\n",
    "# Train the neural network\n",
    "bd_model = bd_model(\n",
    "    tmp_x.shape,\n",
    "    max_french_sequence_length,\n",
    "    english_vocab_size,\n",
    "    french_vocab_size)\n",
    "\n",
    "bd_model.fit(tmp_x, preproc_french_sentences, batch_size=1024, epochs=10, validation_split=0.2)\n",
    "\n",
    "# Print prediction(s)\n",
    "print(logits_to_text(bd_model.predict(tmp_x[:1])[0], french_tokenizer))\n"
   ]
  },
  {
   "cell_type": "markdown",
   "metadata": {},
   "source": [
    "### Model 4: Encoder-Decoder \n",
    "Time to look at encoder-decoder models.  This model is made up of an encoder and decoder. The encoder creates a matrix representation of the sentence.  The decoder takes this matrix as input and predicts the translation as output."
   ]
  },
  {
   "cell_type": "code",
   "execution_count": 15,
   "metadata": {},
   "outputs": [
    {
     "name": "stdout",
     "output_type": "stream",
     "text": [
      "Train on 110288 samples, validate on 27573 samples\n",
      "Epoch 1/10\n",
      "110288/110288 [==============================] - 17s 158us/step - loss: 2.9694 - acc: 0.4544 - val_loss: 2.2380 - val_acc: 0.5059\n",
      "Epoch 2/10\n",
      "110288/110288 [==============================] - 17s 150us/step - loss: 1.8823 - acc: 0.5479 - val_loss: 1.5857 - val_acc: 0.5891\n",
      "Epoch 3/10\n",
      "110288/110288 [==============================] - 17s 150us/step - loss: 1.3520 - acc: 0.6476 - val_loss: 1.1342 - val_acc: 0.7039\n",
      "Epoch 4/10\n",
      "110288/110288 [==============================] - 17s 151us/step - loss: 0.9998 - acc: 0.7355 - val_loss: 0.8762 - val_acc: 0.7683\n",
      "Epoch 5/10\n",
      "110288/110288 [==============================] - 17s 150us/step - loss: 0.7751 - acc: 0.7959 - val_loss: 0.6831 - val_acc: 0.8192\n",
      "Epoch 6/10\n",
      "110288/110288 [==============================] - 17s 150us/step - loss: 0.6183 - acc: 0.8328 - val_loss: 0.5663 - val_acc: 0.8438\n",
      "Epoch 7/10\n",
      "110288/110288 [==============================] - 17s 151us/step - loss: 0.5206 - acc: 0.8541 - val_loss: 0.4804 - val_acc: 0.8650\n",
      "Epoch 8/10\n",
      "110288/110288 [==============================] - 17s 150us/step - loss: 0.4533 - acc: 0.8712 - val_loss: 0.4255 - val_acc: 0.8780\n",
      "Epoch 9/10\n",
      "110288/110288 [==============================] - 17s 150us/step - loss: 0.3990 - acc: 0.8865 - val_loss: 0.3749 - val_acc: 0.8928\n",
      "Epoch 10/10\n",
      "110288/110288 [==============================] - 17s 151us/step - loss: 0.3576 - acc: 0.8979 - val_loss: 0.3373 - val_acc: 0.9040\n",
      "new jersey est parfois calme pendant l' et il il est neigeux en <PAD> <PAD> <PAD> <PAD> <PAD> <PAD> <PAD> <PAD>\n"
     ]
    }
   ],
   "source": [
    "def encdec_model(input_shape, output_sequence_length, english_vocab_size, french_vocab_size):\n",
    "    \"\"\"\n",
    "    Build and train an encoder-decoder model on x and y\n",
    "    :param input_shape: Tuple of input shape\n",
    "    :param output_sequence_length: Length of output sequence\n",
    "    :param english_vocab_size: Number of unique English words in the dataset\n",
    "    :param french_vocab_size: Number of unique French words in the dataset\n",
    "    :return: Keras model built, but not trained\n",
    "    \"\"\"\n",
    "    # Implement\n",
    "    learning_rate = 0.002\n",
    "\n",
    "    #ENCODER\n",
    "    i_e = Input(shape = input_shape[1:])\n",
    "    e_e = Embedding(english_vocab_size, 32, input_length = output_sequence_length)(i_e)\n",
    "    g_e = GRU(64, return_sequences=True)(e_e)\n",
    "    \n",
    "    #DECODER\n",
    "    #i_d = Input(shape = g_e.shape)(g_e)\n",
    "    g_d = Bidirectional(GRU(64, return_sequences=True))(g_e)\n",
    "    #g_d = Bidirectional((GRU(64, return_sequences=True)(i_d)), merge_mode='sum')\n",
    "    \n",
    "    t_d = TimeDistributed(Dense((french_vocab_size)))(g_d)\n",
    "    a_d = Activation('softmax')(t_d)\n",
    "    model = Model(i_e, a_d)\n",
    "    \n",
    "    model.compile(loss=sparse_categorical_crossentropy,\n",
    "                  optimizer=Adam(learning_rate),\n",
    "                  metrics=['accuracy'])\n",
    "    \n",
    "    return model\n",
    "\n",
    "\n",
    "# Reshape the input\n",
    "tmp_x = pad(preproc_english_sentences, max_french_sequence_length)\n",
    "#tmp_x = tmp_x.reshape((-1, preproc_french_sentences.shape[-2], 1))\n",
    "\n",
    "# Train the neural network\n",
    "encdec_model = encdec_model(\n",
    "    tmp_x.shape,\n",
    "    max_french_sequence_length,\n",
    "    english_vocab_size,\n",
    "    french_vocab_size)\n",
    "\n",
    "encdec_model.fit(tmp_x, preproc_french_sentences, batch_size=1024, epochs=10, validation_split=0.2)\n",
    "\n",
    "# Print prediction(s)\n",
    "print(logits_to_text(encdec_model.predict(tmp_x[:1])[0], french_tokenizer))"
   ]
  },
  {
   "cell_type": "markdown",
   "metadata": {},
   "source": [
    "### Model 5: Custom \n",
    "Now using everything we learned from the previous models do far to create a model that incorporates embedding and a bidirectional rnn into one model."
   ]
  },
  {
   "cell_type": "code",
   "execution_count": 23,
   "metadata": {},
   "outputs": [
    {
     "name": "stdout",
     "output_type": "stream",
     "text": [
      "Final Model Loaded\n",
      "Train on 110288 samples, validate on 27573 samples\n",
      "Epoch 1/10\n",
      "110288/110288 [==============================] - 26s 235us/step - loss: 2.0946 - acc: 0.5433 - val_loss: 1.0755 - val_acc: 0.7125\n",
      "Epoch 2/10\n",
      "110288/110288 [==============================] - 24s 222us/step - loss: 0.7240 - acc: 0.8002 - val_loss: 0.5138 - val_acc: 0.8484\n",
      "Epoch 3/10\n",
      "110288/110288 [==============================] - 24s 222us/step - loss: 0.4068 - acc: 0.8775 - val_loss: 0.3215 - val_acc: 0.8991\n",
      "Epoch 4/10\n",
      "110288/110288 [==============================] - 24s 222us/step - loss: 0.2734 - acc: 0.9136 - val_loss: 0.2245 - val_acc: 0.9287\n",
      "Epoch 5/10\n",
      "110288/110288 [==============================] - 24s 222us/step - loss: 0.1930 - acc: 0.9390 - val_loss: 0.1703 - val_acc: 0.9463\n",
      "Epoch 6/10\n",
      "110288/110288 [==============================] - 25s 223us/step - loss: 0.1484 - acc: 0.9529 - val_loss: 0.1379 - val_acc: 0.9568\n",
      "Epoch 7/10\n",
      "110288/110288 [==============================] - 25s 222us/step - loss: 0.1217 - acc: 0.9615 - val_loss: 0.1177 - val_acc: 0.9637\n",
      "Epoch 8/10\n",
      "110288/110288 [==============================] - 25s 223us/step - loss: 0.0988 - acc: 0.9691 - val_loss: 0.1059 - val_acc: 0.9674\n",
      "Epoch 9/10\n",
      "110288/110288 [==============================] - 25s 223us/step - loss: 0.0871 - acc: 0.9727 - val_loss: 0.0960 - val_acc: 0.9710\n",
      "Epoch 10/10\n",
      "110288/110288 [==============================] - 25s 223us/step - loss: 0.0761 - acc: 0.9764 - val_loss: 0.0871 - val_acc: 0.9743\n",
      "new jersey est parfois calme pendant l' automne et il est en en avril <PAD> <PAD> <PAD> <PAD> <PAD> <PAD> <PAD>\n"
     ]
    }
   ],
   "source": [
    "def model_final(input_shape, output_sequence_length, english_vocab_size, french_vocab_size):\n",
    "    \"\"\"\n",
    "    Build and train a model that incorporates embedding, encoder-decoder, and bidirectional RNN on x and y\n",
    "    :param input_shape: Tuple of input shape\n",
    "    :param output_sequence_length: Length of output sequence\n",
    "    :param english_vocab_size: Number of unique English words in the dataset\n",
    "    :param french_vocab_size: Number of unique French words in the dataset\n",
    "    :return: Keras model built, but not trained\n",
    "    \"\"\"\n",
    "    learning_rate = 0.005\n",
    "\n",
    "    #ENCODER\n",
    "    i_e = Input(shape = input_shape[1:])\n",
    "    e_e = Embedding(english_vocab_size, 32, input_length = output_sequence_length)(i_e) #, input_length = output_sequence_length\n",
    "    g_e = GRU(64, return_sequences=True)(e_e)\n",
    "    #r_e = RepeatVector(output_sequence_length)(g_e)\n",
    "    \n",
    "    #DECODER\n",
    "    g_d = Bidirectional(GRU(256, return_sequences=True))(g_e)  \n",
    "    t_d = TimeDistributed(Dense((french_vocab_size)))(g_d)\n",
    "    a_d = Activation('softmax')(t_d)\n",
    "    model = Model(i_e, a_d)\n",
    "    \n",
    "    model.compile(loss=sparse_categorical_crossentropy,\n",
    "                  optimizer=Adam(learning_rate),\n",
    "                  metrics=['accuracy'])\n",
    "    \n",
    "    '''\n",
    "    #The Sequential writing \n",
    "    model = Sequential()\n",
    "    model.add(Embedding(input_dim=english_vocab_size,output_dim=128,input_length=input_shape[1]))\n",
    "    model.add(Bidirectional(GRU(256,return_sequences=False)))\n",
    "    model.add(RepeatVector(output_sequence_length))\n",
    "    model.add(Bidirectional(GRU(256,return_sequences=True)))\n",
    "    model.add(TimeDistributed(Dense(french_vocab_size,activation='softmax')))\n",
    "    '''\n",
    "    \n",
    "    return model\n",
    "\n",
    "\n",
    "print('Final Model Loaded')\n",
    "# Train the final model\n",
    "\n",
    "# Reshape the input\n",
    "tmp_x = pad(preproc_english_sentences, max_french_sequence_length)\n",
    "\n",
    "# Train the neural network\n",
    "m_f = model_final(tmp_x.shape,max_french_sequence_length,english_vocab_size,french_vocab_size)\n",
    "m_f.fit(tmp_x, preproc_french_sentences, batch_size=1024, epochs=10, validation_split=0.2)\n",
    "\n",
    "# Print prediction(s)\n",
    "print(logits_to_text(m_f.predict(tmp_x[:1])[0], french_tokenizer))\n"
   ]
  },
  {
   "cell_type": "markdown",
   "metadata": {},
   "source": [
    "## Prediction "
   ]
  },
  {
   "cell_type": "code",
   "execution_count": 24,
   "metadata": {},
   "outputs": [
    {
     "name": "stdout",
     "output_type": "stream",
     "text": [
      "Train on 110288 samples, validate on 27573 samples\n",
      "Epoch 1/20\n",
      "110288/110288 [==============================] - 26s 236us/step - loss: 2.2740 - acc: 0.5172 - val_loss: 1.1567 - val_acc: 0.6939\n",
      "Epoch 2/20\n",
      "110288/110288 [==============================] - 25s 223us/step - loss: 0.7395 - acc: 0.7934 - val_loss: 0.4849 - val_acc: 0.8534\n",
      "Epoch 3/20\n",
      "110288/110288 [==============================] - 25s 222us/step - loss: 0.3735 - acc: 0.8870 - val_loss: 0.3025 - val_acc: 0.9078\n",
      "Epoch 4/20\n",
      "110288/110288 [==============================] - 24s 221us/step - loss: 0.2416 - acc: 0.9275 - val_loss: 0.2090 - val_acc: 0.9375\n",
      "Epoch 5/20\n",
      "110288/110288 [==============================] - 25s 223us/step - loss: 0.1812 - acc: 0.9454 - val_loss: 0.1601 - val_acc: 0.9523\n",
      "Epoch 6/20\n",
      "110288/110288 [==============================] - 25s 223us/step - loss: 0.1417 - acc: 0.9573 - val_loss: 0.1329 - val_acc: 0.9606\n",
      "Epoch 7/20\n",
      "110288/110288 [==============================] - 25s 223us/step - loss: 0.1175 - acc: 0.9648 - val_loss: 0.1181 - val_acc: 0.9651\n",
      "Epoch 8/20\n",
      "110288/110288 [==============================] - 25s 223us/step - loss: 0.1022 - acc: 0.9692 - val_loss: 0.1063 - val_acc: 0.9684\n",
      "Epoch 9/20\n",
      "110288/110288 [==============================] - 25s 223us/step - loss: 0.0896 - acc: 0.9731 - val_loss: 0.0962 - val_acc: 0.9717\n",
      "Epoch 10/20\n",
      "110288/110288 [==============================] - 25s 223us/step - loss: 0.0829 - acc: 0.9748 - val_loss: 0.0923 - val_acc: 0.9724\n",
      "Epoch 11/20\n",
      "110288/110288 [==============================] - 25s 223us/step - loss: 0.0730 - acc: 0.9780 - val_loss: 0.0924 - val_acc: 0.9727\n",
      "Epoch 12/20\n",
      "110288/110288 [==============================] - 25s 223us/step - loss: 0.0673 - acc: 0.9796 - val_loss: 0.0789 - val_acc: 0.9768\n",
      "Epoch 13/20\n",
      "110288/110288 [==============================] - 24s 222us/step - loss: 0.0614 - acc: 0.9815 - val_loss: 0.0780 - val_acc: 0.9774\n",
      "Epoch 14/20\n",
      "110288/110288 [==============================] - 24s 222us/step - loss: 0.0587 - acc: 0.9823 - val_loss: 0.0753 - val_acc: 0.9782\n",
      "Epoch 15/20\n",
      "110288/110288 [==============================] - 25s 223us/step - loss: 0.0617 - acc: 0.9810 - val_loss: 0.0759 - val_acc: 0.9778\n",
      "Epoch 16/20\n",
      "110288/110288 [==============================] - 25s 223us/step - loss: 0.0514 - acc: 0.9843 - val_loss: 0.0691 - val_acc: 0.9800\n",
      "Epoch 17/20\n",
      "110288/110288 [==============================] - 25s 222us/step - loss: 0.0459 - acc: 0.9860 - val_loss: 0.0709 - val_acc: 0.9795\n",
      "Epoch 18/20\n",
      "110288/110288 [==============================] - 25s 223us/step - loss: 0.0441 - acc: 0.9866 - val_loss: 0.0667 - val_acc: 0.9811\n",
      "Epoch 19/20\n",
      "110288/110288 [==============================] - 25s 223us/step - loss: 0.0422 - acc: 0.9871 - val_loss: 0.0706 - val_acc: 0.9798\n",
      "Epoch 20/20\n",
      "110288/110288 [==============================] - 25s 223us/step - loss: 0.0432 - acc: 0.9867 - val_loss: 0.0717 - val_acc: 0.9797\n",
      "Sample 1:\n",
      "il a vu un vieux camion jaune <PAD> <PAD> <PAD> <PAD> <PAD> <PAD> <PAD> <PAD> <PAD> <PAD> <PAD> <PAD> <PAD> <PAD>\n",
      "Il a vu un vieux camion jaune\n",
      "Sample 2:\n",
      "new jersey est parfois calme pendant l' automne et il est neigeux en avril <PAD> <PAD> <PAD> <PAD> <PAD> <PAD> <PAD>\n",
      "new jersey est parfois calme pendant l' automne et il est neigeux en avril <PAD> <PAD> <PAD> <PAD> <PAD> <PAD> <PAD>\n"
     ]
    }
   ],
   "source": [
    "def final_predictions(x, y, x_tk, y_tk):\n",
    "    \"\"\"\n",
    "    Gets predictions using the final model\n",
    "    :param x: Preprocessed English data\n",
    "    :param y: Preprocessed French data\n",
    "    :param x_tk: English tokenizer\n",
    "    :param y_tk: French tokenizer\n",
    "    \"\"\"\n",
    "    # Train neural network using model_final\n",
    "    \n",
    "    #Padding input\n",
    "    max_french = max([len(i) for i in y])\n",
    "    x = pad(x, max_french)\n",
    "    \n",
    "    #Build model and fit\n",
    "    m_f = model_final(x.shape,max_french_sequence_length,english_vocab_size,french_vocab_size)\n",
    "    m_f.fit(x, y, batch_size=1024, epochs=20, validation_split=0.2)\n",
    "    \n",
    "    \n",
    "    y_id_to_word = {value: key for key, value in y_tk.word_index.items()}\n",
    "    y_id_to_word[0] = '<PAD>'\n",
    "\n",
    "    # Sample sentences\n",
    "    sentence = 'he saw a old yellow truck'\n",
    "    sentence = [x_tk.word_index[word] for word in sentence.split()]\n",
    "    sentence = pad_sequences([sentence], maxlen=x.shape[-1], padding='post')\n",
    "    sentences = np.array([sentence[0], x[0]])\n",
    "    predictions = m_f.predict(sentences, len(sentences))\n",
    "\n",
    "    print('Sample 1:')\n",
    "    print(' '.join([y_id_to_word[np.argmax(x)] for x in predictions[0]]))\n",
    "    print('Il a vu un vieux camion jaune')\n",
    "    print('Sample 2:')\n",
    "    print(' '.join([y_id_to_word[np.argmax(x)] for x in predictions[1]]))\n",
    "    print(' '.join([y_id_to_word[np.max(x)] for x in y[0]]))\n",
    "\n",
    "\n",
    "final_predictions(preproc_english_sentences, preproc_french_sentences, english_tokenizer, french_tokenizer)"
   ]
  },
  {
   "cell_type": "markdown",
   "metadata": {},
   "source": [
    "## Optional Enhancements\n",
    "\n",
    "In this project we focus on learning/use various network architectures for machine translation. But we could see that the program was able to learn very simple translations. As a next step I gone implement also the very important Attention Models (like the additive attention model and scale the data set.)"
   ]
  },
  {
   "cell_type": "code",
   "execution_count": null,
   "metadata": {},
   "outputs": [],
   "source": []
  }
 ],
 "metadata": {
  "kernelspec": {
   "display_name": "Python 3",
   "language": "python",
   "name": "python3"
  },
  "language_info": {
   "codemirror_mode": {
    "name": "ipython",
    "version": 3
   },
   "file_extension": ".py",
   "mimetype": "text/x-python",
   "name": "python",
   "nbconvert_exporter": "python",
   "pygments_lexer": "ipython3",
   "version": "3.6.3"
  }
 },
 "nbformat": 4,
 "nbformat_minor": 1
}
